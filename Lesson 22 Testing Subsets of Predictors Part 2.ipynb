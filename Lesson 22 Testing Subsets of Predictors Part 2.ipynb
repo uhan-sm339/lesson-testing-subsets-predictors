{
 "cells": [
  {
   "cell_type": "markdown",
   "id": "d3b00561-cf0d-4903-8359-0b17895e20bb",
   "metadata": {
    "editable": true,
    "slideshow": {
     "slide_type": ""
    },
    "tags": []
   },
   "source": [
    "**SM339 &#x25aa; Applied Statistics &#x25aa; Spring 2024 &#x25aa; Uhan**"
   ]
  },
  {
   "cell_type": "markdown",
   "id": "2018bc12-f328-4d12-8e1a-d9aa9a8cabbf",
   "metadata": {
    "editable": true,
    "slideshow": {
     "slide_type": ""
    },
    "tags": []
   },
   "source": [
    "# Lesson 22. Testing Subsets of Predictors &mdash; Part 2"
   ]
  },
  {
   "cell_type": "markdown",
   "id": "f91556bf-b3ae-4288-8983-3025e5c33529",
   "metadata": {
    "editable": true,
    "slideshow": {
     "slide_type": ""
    },
    "tags": []
   },
   "source": [
    "### Example 1"
   ]
  },
  {
   "cell_type": "markdown",
   "id": "e0652973-4e51-4b93-9780-138faa983afa",
   "metadata": {
    "editable": true,
    "slideshow": {
     "slide_type": ""
    },
    "tags": []
   },
   "source": [
    "Let's return to the `Perch` dataset. \n",
    "\n",
    "This dataset contains the weight (in grams), length (in centimeters), and width (in centimeters) for 56 perch caught in a lake in Finland.\n",
    "Recall that we wanted to predict $\\mathit{Weight}$ from $\\mathit{Length}$ and $\\mathit{Width}$."
   ]
  },
  {
   "cell_type": "code",
   "execution_count": null,
   "id": "3846a8fe-8232-4602-817c-8eefb542d4d9",
   "metadata": {
    "editable": true,
    "slideshow": {
     "slide_type": ""
    },
    "tags": []
   },
   "outputs": [],
   "source": [
    "library(Stat2Data)\n",
    "data(Perch)\n",
    "head(Perch)"
   ]
  },
  {
   "cell_type": "markdown",
   "id": "97f1bb01-36a0-45fd-b4b2-a3f2ab550907",
   "metadata": {
    "editable": true,
    "slideshow": {
     "slide_type": ""
    },
    "tags": []
   },
   "source": [
    "- We considered three models, but two of them in particular were in close contention:\n",
    "\n",
    "    1. Model 2, with both linear terms and an interaction term:\n",
    "        $$ \\text{Model 2:} \\qquad \\mathit{Weight} = \\beta_0 + \\beta_1 \\mathit{Width} + \\beta_2 \\mathit{Length} + \\beta_3 (\\mathit{Width} \\times \\mathit{Length}) + \\varepsilon \\qquad \\varepsilon \\sim \\text{iid } N(0, \\sigma_{\\varepsilon}^2) $$\n",
    "\n",
    "    2. Model 3, the complete second-order model:\n",
    "        $$ \\text{Model 3:} \\qquad \\mathit{Weight} = \\beta_0 + \\beta_1 \\mathit{Width} + \\beta_2 \\mathit{Length} + \\beta_3 (\\mathit{Width} \\times \\mathit{Length}) + \\beta_4 \\mathit{Width}^2 + \\beta_5 \\mathit{Length}^2 \\qquad \\varepsilon \\sim \\text{iid } N(0, \\sigma_{\\varepsilon}^2) $$\n",
    "\n",
    "- Based on adjusted $R^2$ values and consdering parsimony, Model 2 was better than Model 3\n",
    "\n",
    "- Now, we will _formally_ compare these two models, and see if the results support our informal argument"
   ]
  },
  {
   "attachments": {},
   "cell_type": "markdown",
   "id": "0dc32d45-3a92-4738-9f1d-afd0b00bbd46",
   "metadata": {
    "editable": true,
    "jp-MarkdownHeadingCollapsed": true,
    "slideshow": {
     "slide_type": ""
    },
    "tags": []
   },
   "source": [
    "### a.\n",
    "\n",
    "Let's conduct a __nested $F$-test__ to decide if we should remove _both_ the quadratic terms from the complete second-order model (Model 3)\n",
    "\n",
    "- Recall that the hypotheses of the nested $F$-test in general are:\n",
    "\n",
    "\\begin{align*}\n",
    "H_0: \\beta_i = 0 & \\quad \\text{for all predictors in the subset} \\\\\n",
    "H_A: \\beta_i \\ne 0 & \\quad \\text{for at least one predictor in the subset}\n",
    "\\end{align*}\n",
    "\n",
    "- In this example, the subset of predictors we are testing is $\\{ \\mathit{Width}^2, \\mathit{Length}^2 \\}$\n",
    "\n",
    "- So, the full model is Model 3, and the reduced model is Model 2\n",
    "\n",
    "- The hypotheses of the nested $F$-test are:\n",
    "\n",
    "\\begin{align*}\n",
    "& H_0: \\beta_4 = \\beta_5 = 0 \\\\\n",
    "& H_A: \\beta_4 \\ne 0 \\text{ and/or } \\beta_5 \\ne 0\n",
    "\\end{align*}"
   ]
  },
  {
   "cell_type": "markdown",
   "id": "2abc362a-55bd-40cf-845b-9e33c0658ae4",
   "metadata": {
    "editable": true,
    "slideshow": {
     "slide_type": ""
    },
    "tags": []
   },
   "source": [
    "### b.\n",
    "Compute the SSE for the full model."
   ]
  },
  {
   "cell_type": "code",
   "execution_count": null,
   "id": "189af3dd-419d-46a3-8898-0e92151b82a0",
   "metadata": {
    "editable": true,
    "slideshow": {
     "slide_type": ""
    },
    "tags": []
   },
   "outputs": [],
   "source": []
  },
  {
   "cell_type": "markdown",
   "id": "754625d8-4f4a-4fcc-a01f-e310d1c24beb",
   "metadata": {
    "editable": true,
    "slideshow": {
     "slide_type": ""
    },
    "tags": []
   },
   "source": [
    "### c.\n",
    "Compute the SSE for the reduced model."
   ]
  },
  {
   "cell_type": "code",
   "execution_count": null,
   "id": "6dff29e6-2276-458f-a5f1-7a37ea2f52da",
   "metadata": {
    "editable": true,
    "slideshow": {
     "slide_type": ""
    },
    "tags": []
   },
   "outputs": [],
   "source": []
  },
  {
   "cell_type": "markdown",
   "id": "814c1176-94e4-4f66-8d8f-c411af002b1a",
   "metadata": {
    "editable": true,
    "slideshow": {
     "slide_type": ""
    },
    "tags": []
   },
   "source": [
    "### d.\n",
    "\n",
    "Calculate the test statistic:\n",
    "\n",
    "$$ F = \\frac{ (\\mathit{SSE}_{\\mathit{reduced}} - \\mathit{SSE}_{\\mathit{full}}) \\,/\\, \\ell}{ \\mathit{SSE}_{\\mathit{full}} \\,/\\, (n - (k + 1)) } $$"
   ]
  },
  {
   "cell_type": "code",
   "execution_count": null,
   "id": "0143ebba-4e30-44da-97fe-e03097233688",
   "metadata": {
    "editable": true,
    "slideshow": {
     "slide_type": ""
    },
    "tags": []
   },
   "outputs": [],
   "source": []
  },
  {
   "cell_type": "markdown",
   "id": "93d1ee42-52a6-4d3a-a396-7cd455d36f9e",
   "metadata": {
    "editable": true,
    "slideshow": {
     "slide_type": ""
    },
    "tags": []
   },
   "source": [
    "### e.\n",
    "Calculate the p-value."
   ]
  },
  {
   "cell_type": "code",
   "execution_count": null,
   "id": "a79bd22e-f6aa-458a-9cc1-ca7c3c1c722a",
   "metadata": {
    "editable": true,
    "slideshow": {
     "slide_type": ""
    },
    "tags": []
   },
   "outputs": [],
   "source": []
  },
  {
   "cell_type": "markdown",
   "id": "8870127f-00b4-4881-949f-2e0d77c08e70",
   "metadata": {
    "editable": true,
    "slideshow": {
     "slide_type": ""
    },
    "tags": []
   },
   "source": [
    "### f.\n",
    "What is your conclusion?"
   ]
  },
  {
   "cell_type": "markdown",
   "id": "723a951e-c79a-4f5e-b2cc-cbca9daabd23",
   "metadata": {
    "editable": true,
    "slideshow": {
     "slide_type": ""
    },
    "tags": []
   },
   "source": [
    "*Write your notes here. Double-click to edit.*"
   ]
  },
  {
   "cell_type": "markdown",
   "id": "c2cf8919-8838-4924-b891-2a8a00bee660",
   "metadata": {
    "editable": true,
    "slideshow": {
     "slide_type": ""
    },
    "tags": []
   },
   "source": [
    "### g.\n",
    "\n",
    "As you may have guessed, R has a function that can perform all the steps of this nested F-test:"
   ]
  },
  {
   "cell_type": "code",
   "execution_count": null,
   "id": "3c611774-9cae-4b10-822f-e89244222be2",
   "metadata": {
    "editable": true,
    "slideshow": {
     "slide_type": ""
    },
    "tags": []
   },
   "outputs": [],
   "source": [
    "anova(fit.reduced, fit.full)    # the nested models to compare"
   ]
  }
 ],
 "metadata": {
  "kernelspec": {
   "display_name": "R",
   "language": "R",
   "name": "ir"
  },
  "language_info": {
   "codemirror_mode": "r",
   "file_extension": ".r",
   "mimetype": "text/x-r-source",
   "name": "R",
   "pygments_lexer": "r",
   "version": "4.3.2"
  }
 },
 "nbformat": 4,
 "nbformat_minor": 5
}
