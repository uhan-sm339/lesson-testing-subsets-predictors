{
 "cells": [
  {
   "cell_type": "markdown",
   "id": "d3b00561-cf0d-4903-8359-0b17895e20bb",
   "metadata": {
    "editable": true,
    "slideshow": {
     "slide_type": ""
    },
    "tags": []
   },
   "source": [
    "**SM339 &#x25aa; Applied Statistics &#x25aa; Spring 2024 &#x25aa; Uhan**"
   ]
  },
  {
   "cell_type": "markdown",
   "id": "2018bc12-f328-4d12-8e1a-d9aa9a8cabbf",
   "metadata": {
    "editable": true,
    "slideshow": {
     "slide_type": ""
    },
    "tags": []
   },
   "source": [
    "# Lesson 22. Testing Subsets of Predictors &mdash; Part 2"
   ]
  },
  {
   "cell_type": "markdown",
   "id": "f91556bf-b3ae-4288-8983-3025e5c33529",
   "metadata": {},
   "source": [
    "### Example 1"
   ]
  },
  {
   "cell_type": "markdown",
   "id": "e0652973-4e51-4b93-9780-138faa983afa",
   "metadata": {
    "editable": true,
    "slideshow": {
     "slide_type": ""
    },
    "tags": []
   },
   "source": [
    "Let's return to the `Perch` dataset. \n",
    "\n",
    "This dataset contains the weight (in grams), length (in centimeters), and width (in centimeters) for 56 perch caught in a lake in Finland.\n",
    "Recall that we wanted to predict $\\mathit{Weight}$ from $\\mathit{Length}$ and $\\mathit{Width}$."
   ]
  },
  {
   "cell_type": "code",
   "execution_count": 1,
   "id": "3846a8fe-8232-4602-817c-8eefb542d4d9",
   "metadata": {
    "editable": true,
    "slideshow": {
     "slide_type": ""
    },
    "tags": []
   },
   "outputs": [
    {
     "data": {
      "text/html": [
       "<table class=\"dataframe\">\n",
       "<caption>A data.frame: 6 × 4</caption>\n",
       "<thead>\n",
       "\t<tr><th></th><th scope=col>Obs</th><th scope=col>Weight</th><th scope=col>Length</th><th scope=col>Width</th></tr>\n",
       "\t<tr><th></th><th scope=col>&lt;int&gt;</th><th scope=col>&lt;dbl&gt;</th><th scope=col>&lt;dbl&gt;</th><th scope=col>&lt;dbl&gt;</th></tr>\n",
       "</thead>\n",
       "<tbody>\n",
       "\t<tr><th scope=row>1</th><td>104</td><td>  5.9</td><td> 8.8</td><td>1.4</td></tr>\n",
       "\t<tr><th scope=row>2</th><td>105</td><td> 32.0</td><td>14.7</td><td>2.0</td></tr>\n",
       "\t<tr><th scope=row>3</th><td>106</td><td> 40.0</td><td>16.0</td><td>2.4</td></tr>\n",
       "\t<tr><th scope=row>4</th><td>107</td><td> 51.5</td><td>17.2</td><td>2.6</td></tr>\n",
       "\t<tr><th scope=row>5</th><td>108</td><td> 70.0</td><td>18.5</td><td>2.9</td></tr>\n",
       "\t<tr><th scope=row>6</th><td>109</td><td>100.0</td><td>19.2</td><td>3.3</td></tr>\n",
       "</tbody>\n",
       "</table>\n"
      ],
      "text/latex": [
       "A data.frame: 6 × 4\n",
       "\\begin{tabular}{r|llll}\n",
       "  & Obs & Weight & Length & Width\\\\\n",
       "  & <int> & <dbl> & <dbl> & <dbl>\\\\\n",
       "\\hline\n",
       "\t1 & 104 &   5.9 &  8.8 & 1.4\\\\\n",
       "\t2 & 105 &  32.0 & 14.7 & 2.0\\\\\n",
       "\t3 & 106 &  40.0 & 16.0 & 2.4\\\\\n",
       "\t4 & 107 &  51.5 & 17.2 & 2.6\\\\\n",
       "\t5 & 108 &  70.0 & 18.5 & 2.9\\\\\n",
       "\t6 & 109 & 100.0 & 19.2 & 3.3\\\\\n",
       "\\end{tabular}\n"
      ],
      "text/markdown": [
       "\n",
       "A data.frame: 6 × 4\n",
       "\n",
       "| <!--/--> | Obs &lt;int&gt; | Weight &lt;dbl&gt; | Length &lt;dbl&gt; | Width &lt;dbl&gt; |\n",
       "|---|---|---|---|---|\n",
       "| 1 | 104 |   5.9 |  8.8 | 1.4 |\n",
       "| 2 | 105 |  32.0 | 14.7 | 2.0 |\n",
       "| 3 | 106 |  40.0 | 16.0 | 2.4 |\n",
       "| 4 | 107 |  51.5 | 17.2 | 2.6 |\n",
       "| 5 | 108 |  70.0 | 18.5 | 2.9 |\n",
       "| 6 | 109 | 100.0 | 19.2 | 3.3 |\n",
       "\n"
      ],
      "text/plain": [
       "  Obs Weight Length Width\n",
       "1 104   5.9   8.8   1.4  \n",
       "2 105  32.0  14.7   2.0  \n",
       "3 106  40.0  16.0   2.4  \n",
       "4 107  51.5  17.2   2.6  \n",
       "5 108  70.0  18.5   2.9  \n",
       "6 109 100.0  19.2   3.3  "
      ]
     },
     "metadata": {},
     "output_type": "display_data"
    }
   ],
   "source": [
    "library(Stat2Data)\n",
    "data(Perch)\n",
    "head(Perch)"
   ]
  },
  {
   "cell_type": "markdown",
   "id": "97f1bb01-36a0-45fd-b4b2-a3f2ab550907",
   "metadata": {
    "editable": true,
    "slideshow": {
     "slide_type": ""
    },
    "tags": []
   },
   "source": [
    "- We considered three models, but two of them in particular were in close contention:\n",
    "\n",
    "    1. Model 2, with both linear terms and an interaction term:\n",
    "        $$ \\text{Model 2:} \\qquad \\mathit{Weight} = \\beta_0 + \\beta_1 \\mathit{Width} + \\beta_2 \\mathit{Length} + \\beta_3 (\\mathit{Width} \\times \\mathit{Length}) + \\varepsilon \\qquad \\varepsilon \\sim N(0, \\sigma_{\\varepsilon}^2) $$\n",
    "\n",
    "    2. Model 3, the complete second-order model:\n",
    "        $$ \\text{Model 3:} \\qquad \\mathit{Weight} = \\beta_0 + \\beta_1 \\mathit{Width} + \\beta_2 \\mathit{Length} + \\beta_3 (\\mathit{Width} \\times \\mathit{Length}) + \\beta_4 \\mathit{Width}^2 + \\beta_5 \\mathit{Length}^2 \\qquad \\varepsilon \\sim N(0, \\sigma_{\\varepsilon}^2) $$\n",
    "\n",
    "- Based on adjusted $R^2$ values and consdering parsimony, Model 2 was better than Model 3\n",
    "\n",
    "- Now, we will _formally_ compare these two models, and see if the results support our informal argument"
   ]
  },
  {
   "attachments": {},
   "cell_type": "markdown",
   "id": "0dc32d45-3a92-4738-9f1d-afd0b00bbd46",
   "metadata": {
    "editable": true,
    "jp-MarkdownHeadingCollapsed": true,
    "slideshow": {
     "slide_type": ""
    },
    "tags": []
   },
   "source": [
    "### a.\n",
    "\n",
    "Let's conduct a __nested $F$-test__ to decide if we should remove _both_ the quadratic terms from the complete second-order model (Model 3)\n",
    "\n",
    "- Recall that the hypotheses of the nested $F$-test in general are:\n",
    "\n",
    "\\begin{align*}\n",
    "H_0: \\beta_i = 0 & \\quad \\text{for all predictors in the subset} \\\\\n",
    "H_A: \\beta_i \\ne 0 & \\quad \\text{for at least one predictor in the subset}\n",
    "\\end{align*}\n",
    "\n",
    "- In this example, the subset of predictors we are testing is $\\{ \\mathit{Width}^2, \\mathit{Length}^2 \\}$\n",
    "\n",
    "- So, the full model is Model 3, and the reduced model is Model 2\n",
    "\n",
    "- The hypotheses of the nested $F$-test are:\n",
    "\n",
    "\\begin{align*}\n",
    "& H_0: \\beta_4 = \\beta_5 = 0 \\\\\n",
    "& H_A: \\beta_4 \\ne 0 \\text{ and/or } \\beta_5 \\ne 0\n",
    "\\end{align*}"
   ]
  },
  {
   "cell_type": "markdown",
   "id": "2abc362a-55bd-40cf-845b-9e33c0658ae4",
   "metadata": {
    "editable": true,
    "slideshow": {
     "slide_type": ""
    },
    "tags": []
   },
   "source": [
    "### b.\n",
    "Compute the SSE for the full model."
   ]
  },
  {
   "cell_type": "code",
   "execution_count": null,
   "id": "189af3dd-419d-46a3-8898-0e92151b82a0",
   "metadata": {
    "editable": true,
    "slideshow": {
     "slide_type": ""
    },
    "tags": []
   },
   "outputs": [],
   "source": []
  },
  {
   "cell_type": "code",
   "execution_count": 2,
   "id": "7ad4ccf3-e653-4319-8147-9ec0748bd872",
   "metadata": {
    "editable": true,
    "slideshow": {
     "slide_type": ""
    },
    "tags": [
     "solution"
    ]
   },
   "outputs": [
    {
     "data": {
      "text/plain": [
       "\n",
       "Call:\n",
       "lm(formula = Weight ~ Width + Length + Width:Length + I(Width^2) + \n",
       "    I(Length^2), data = Perch)\n",
       "\n",
       "Residuals:\n",
       "     Min       1Q   Median       3Q      Max \n",
       "-117.175  -11.904    2.822   11.556  157.596 \n",
       "\n",
       "Coefficients:\n",
       "             Estimate Std. Error t value Pr(>|t|)  \n",
       "(Intercept)  156.3486    61.4152   2.546   0.0140 *\n",
       "Width         20.9772    82.5877   0.254   0.8005  \n",
       "Length       -25.0007    14.2729  -1.752   0.0860 .\n",
       "I(Width^2)    34.4058    18.7455   1.835   0.0724 .\n",
       "I(Length^2)    1.5719     0.7244   2.170   0.0348 *\n",
       "Width:Length  -9.7763     7.1455  -1.368   0.1774  \n",
       "---\n",
       "Signif. codes:  0 ‘***’ 0.001 ‘**’ 0.01 ‘*’ 0.05 ‘.’ 0.1 ‘ ’ 1\n",
       "\n",
       "Residual standard error: 43.13 on 50 degrees of freedom\n",
       "Multiple R-squared:  0.986,\tAdjusted R-squared:  0.9846 \n",
       "F-statistic: 704.6 on 5 and 50 DF,  p-value: < 2.2e-16\n"
      ]
     },
     "metadata": {},
     "output_type": "display_data"
    },
    {
     "data": {
      "text/html": [
       "93000.1005407056"
      ],
      "text/latex": [
       "93000.1005407056"
      ],
      "text/markdown": [
       "93000.1005407056"
      ],
      "text/plain": [
       "[1] 93000.1"
      ]
     },
     "metadata": {},
     "output_type": "display_data"
    }
   ],
   "source": [
    "# Solution\n",
    "fit.full <- lm(Weight ~ Width + Length + Width:Length + I(Width^2) + I(Length^2), data = Perch)\n",
    "summary(fit.full)\n",
    "\n",
    "y <- Perch$Weight\n",
    "SSE.full <- sum( (y - predict(fit.full))^2 )\n",
    "SSE.full"
   ]
  },
  {
   "cell_type": "markdown",
   "id": "754625d8-4f4a-4fcc-a01f-e310d1c24beb",
   "metadata": {
    "editable": true,
    "slideshow": {
     "slide_type": ""
    },
    "tags": []
   },
   "source": [
    "### c.\n",
    "Compute the SSE for the reduced model."
   ]
  },
  {
   "cell_type": "code",
   "execution_count": null,
   "id": "6dff29e6-2276-458f-a5f1-7a37ea2f52da",
   "metadata": {
    "editable": true,
    "slideshow": {
     "slide_type": ""
    },
    "tags": []
   },
   "outputs": [],
   "source": []
  },
  {
   "cell_type": "code",
   "execution_count": 3,
   "id": "3652a18d-4a40-49fe-a23e-1ca87c89833a",
   "metadata": {
    "editable": true,
    "slideshow": {
     "slide_type": ""
    },
    "tags": [
     "solution"
    ]
   },
   "outputs": [
    {
     "data": {
      "text/plain": [
       "\n",
       "Call:\n",
       "lm(formula = Weight ~ Width + Length + Width:Length, data = Perch)\n",
       "\n",
       "Residuals:\n",
       "     Min       1Q   Median       3Q      Max \n",
       "-140.106  -12.226    1.230    8.489  181.408 \n",
       "\n",
       "Coefficients:\n",
       "             Estimate Std. Error t value Pr(>|t|)    \n",
       "(Intercept)  113.9349    58.7844   1.938    0.058 .  \n",
       "Width        -94.6309    22.2954  -4.244 9.06e-05 ***\n",
       "Length        -3.4827     3.1521  -1.105    0.274    \n",
       "Width:Length   5.2412     0.4131  12.687  < 2e-16 ***\n",
       "---\n",
       "Signif. codes:  0 ‘***’ 0.001 ‘**’ 0.01 ‘*’ 0.05 ‘.’ 0.1 ‘ ’ 1\n",
       "\n",
       "Residual standard error: 44.24 on 52 degrees of freedom\n",
       "Multiple R-squared:  0.9847,\tAdjusted R-squared:  0.9838 \n",
       "F-statistic:  1115 on 3 and 52 DF,  p-value: < 2.2e-16\n"
      ]
     },
     "metadata": {},
     "output_type": "display_data"
    },
    {
     "data": {
      "text/html": [
       "101764.664249252"
      ],
      "text/latex": [
       "101764.664249252"
      ],
      "text/markdown": [
       "101764.664249252"
      ],
      "text/plain": [
       "[1] 101764.7"
      ]
     },
     "metadata": {},
     "output_type": "display_data"
    }
   ],
   "source": [
    "# Solution\n",
    "fit.reduced <- lm(Weight ~ Width + Length + Width:Length, data = Perch)\n",
    "summary(fit.reduced)\n",
    "\n",
    "y <- Perch$Weight\n",
    "SSE.reduced <- sum( (y - predict(fit.reduced))^2 )\n",
    "SSE.reduced"
   ]
  },
  {
   "cell_type": "markdown",
   "id": "814c1176-94e4-4f66-8d8f-c411af002b1a",
   "metadata": {
    "editable": true,
    "slideshow": {
     "slide_type": ""
    },
    "tags": []
   },
   "source": [
    "### d.\n",
    "\n",
    "Calculate the test statistic:\n",
    "\n",
    "$$ F = \\frac{ (\\mathit{SSE}_{\\mathit{reduced}} - \\mathit{SSE}_{\\mathit{full}}) \\,/\\, \\ell}{ \\mathit{SSE}_{\\mathit{full}} \\,/\\, (n - (k + 1)) } $$"
   ]
  },
  {
   "cell_type": "code",
   "execution_count": null,
   "id": "0143ebba-4e30-44da-97fe-e03097233688",
   "metadata": {
    "editable": true,
    "slideshow": {
     "slide_type": ""
    },
    "tags": []
   },
   "outputs": [],
   "source": []
  },
  {
   "cell_type": "code",
   "execution_count": 4,
   "id": "27ca1aba-57de-4552-9447-95325bd89a02",
   "metadata": {
    "editable": true,
    "slideshow": {
     "slide_type": ""
    },
    "tags": [
     "solution"
    ]
   },
   "outputs": [
    {
     "data": {
      "text/html": [
       "2.35606296595079"
      ],
      "text/latex": [
       "2.35606296595079"
      ],
      "text/markdown": [
       "2.35606296595079"
      ],
      "text/plain": [
       "[1] 2.356063"
      ]
     },
     "metadata": {},
     "output_type": "display_data"
    }
   ],
   "source": [
    "# Solution\n",
    "# n = number of observations = 56\n",
    "# l = number of predictors being tested = 2\n",
    "# k = number of predictors in full model = 5\n",
    "F <- ((SSE.reduced - SSE.full) / 2) / (SSE.full / (56 - (5 + 1)))\n",
    "F"
   ]
  },
  {
   "cell_type": "markdown",
   "id": "93d1ee42-52a6-4d3a-a396-7cd455d36f9e",
   "metadata": {
    "editable": true,
    "slideshow": {
     "slide_type": ""
    },
    "tags": []
   },
   "source": [
    "### e.\n",
    "Calculate the p-value."
   ]
  },
  {
   "cell_type": "code",
   "execution_count": null,
   "id": "a79bd22e-f6aa-458a-9cc1-ca7c3c1c722a",
   "metadata": {
    "editable": true,
    "slideshow": {
     "slide_type": ""
    },
    "tags": []
   },
   "outputs": [],
   "source": []
  },
  {
   "cell_type": "code",
   "execution_count": 5,
   "id": "0677c10e-55eb-48b6-bd01-d3a23b1e4051",
   "metadata": {
    "editable": true,
    "slideshow": {
     "slide_type": ""
    },
    "tags": [
     "solution"
    ]
   },
   "outputs": [
    {
     "data": {
      "text/html": [
       "0.105235034956549"
      ],
      "text/latex": [
       "0.105235034956549"
      ],
      "text/markdown": [
       "0.105235034956549"
      ],
      "text/plain": [
       "[1] 0.105235"
      ]
     },
     "metadata": {},
     "output_type": "display_data"
    }
   ],
   "source": [
    "# Solution\n",
    "1 - pf(F, df1 = 2, df2 = 50)"
   ]
  },
  {
   "cell_type": "markdown",
   "id": "8870127f-00b4-4881-949f-2e0d77c08e70",
   "metadata": {
    "editable": true,
    "slideshow": {
     "slide_type": ""
    },
    "tags": []
   },
   "source": [
    "### f.\n",
    "What is your conclusion?"
   ]
  },
  {
   "cell_type": "markdown",
   "id": "723a951e-c79a-4f5e-b2cc-cbca9daabd23",
   "metadata": {
    "editable": true,
    "slideshow": {
     "slide_type": ""
    },
    "tags": []
   },
   "source": [
    "*Write your notes here. Double-click to edit.*"
   ]
  },
  {
   "cell_type": "markdown",
   "id": "41c09413-945c-487f-982e-a90e835ab627",
   "metadata": {
    "editable": true,
    "slideshow": {
     "slide_type": ""
    },
    "tags": [
     "solution"
    ]
   },
   "source": [
    "*Solution.* \n",
    "At a significance level of 0.05, we fail to reject the null hypothesis. \n",
    "We do not see evidence that including the two quadratic terms provides a significant improvement. We should use the reduced model (Model 2). "
   ]
  },
  {
   "cell_type": "markdown",
   "id": "c2cf8919-8838-4924-b891-2a8a00bee660",
   "metadata": {
    "editable": true,
    "slideshow": {
     "slide_type": ""
    },
    "tags": []
   },
   "source": [
    "### g.\n",
    "\n",
    "As you may have guessed, R has a function that can perform all the steps of this nested F-test:"
   ]
  },
  {
   "cell_type": "code",
   "execution_count": 6,
   "id": "3c611774-9cae-4b10-822f-e89244222be2",
   "metadata": {
    "editable": true,
    "slideshow": {
     "slide_type": ""
    },
    "tags": []
   },
   "outputs": [
    {
     "data": {
      "text/html": [
       "<table class=\"dataframe\">\n",
       "<caption>A anova: 2 × 6</caption>\n",
       "<thead>\n",
       "\t<tr><th></th><th scope=col>Res.Df</th><th scope=col>RSS</th><th scope=col>Df</th><th scope=col>Sum of Sq</th><th scope=col>F</th><th scope=col>Pr(&gt;F)</th></tr>\n",
       "\t<tr><th></th><th scope=col>&lt;dbl&gt;</th><th scope=col>&lt;dbl&gt;</th><th scope=col>&lt;dbl&gt;</th><th scope=col>&lt;dbl&gt;</th><th scope=col>&lt;dbl&gt;</th><th scope=col>&lt;dbl&gt;</th></tr>\n",
       "</thead>\n",
       "<tbody>\n",
       "\t<tr><th scope=row>1</th><td>52</td><td>101764.7</td><td>NA</td><td>      NA</td><td>      NA</td><td>      NA</td></tr>\n",
       "\t<tr><th scope=row>2</th><td>50</td><td> 93000.1</td><td> 2</td><td>8764.564</td><td>2.356063</td><td>0.105235</td></tr>\n",
       "</tbody>\n",
       "</table>\n"
      ],
      "text/latex": [
       "A anova: 2 × 6\n",
       "\\begin{tabular}{r|llllll}\n",
       "  & Res.Df & RSS & Df & Sum of Sq & F & Pr(>F)\\\\\n",
       "  & <dbl> & <dbl> & <dbl> & <dbl> & <dbl> & <dbl>\\\\\n",
       "\\hline\n",
       "\t1 & 52 & 101764.7 & NA &       NA &       NA &       NA\\\\\n",
       "\t2 & 50 &  93000.1 &  2 & 8764.564 & 2.356063 & 0.105235\\\\\n",
       "\\end{tabular}\n"
      ],
      "text/markdown": [
       "\n",
       "A anova: 2 × 6\n",
       "\n",
       "| <!--/--> | Res.Df &lt;dbl&gt; | RSS &lt;dbl&gt; | Df &lt;dbl&gt; | Sum of Sq &lt;dbl&gt; | F &lt;dbl&gt; | Pr(&gt;F) &lt;dbl&gt; |\n",
       "|---|---|---|---|---|---|---|\n",
       "| 1 | 52 | 101764.7 | NA |       NA |       NA |       NA |\n",
       "| 2 | 50 |  93000.1 |  2 | 8764.564 | 2.356063 | 0.105235 |\n",
       "\n"
      ],
      "text/plain": [
       "  Res.Df RSS      Df Sum of Sq F        Pr(>F)  \n",
       "1 52     101764.7 NA       NA        NA       NA\n",
       "2 50      93000.1  2 8764.564  2.356063 0.105235"
      ]
     },
     "metadata": {},
     "output_type": "display_data"
    }
   ],
   "source": [
    "anova(fit.reduced, fit.full)    # the nested models to compare"
   ]
  }
 ],
 "metadata": {
  "kernelspec": {
   "display_name": "R",
   "language": "R",
   "name": "ir"
  },
  "language_info": {
   "codemirror_mode": "r",
   "file_extension": ".r",
   "mimetype": "text/x-r-source",
   "name": "R",
   "pygments_lexer": "r",
   "version": "4.3.2"
  }
 },
 "nbformat": 4,
 "nbformat_minor": 5
}
